{
 "cells": [
  {
   "cell_type": "code",
   "execution_count": 1,
   "metadata": {},
   "outputs": [],
   "source": [
    "import os\n",
    "import pandas as pd\n",
    "import json\n",
    "import config\n",
    "from sqlalchemy import create_engine"
   ]
  },
  {
   "attachments": {},
   "cell_type": "markdown",
   "metadata": {},
   "source": [
    "# Handling the Data loading for PostgreSQL with the help of Pandas"
   ]
  },
  {
   "cell_type": "code",
   "execution_count": 2,
   "metadata": {},
   "outputs": [],
   "source": [
    "# Establish the PostgreSQL connection\n",
    "connection_string = f\"{config.POSTGRES_UN}:{config.POSTGRES_PW}@{config.POSTGRES_HOST}:{config.POSTGRES_PORT}/{config.POSTGRES_DB_NAME}\"\n",
    "engine = create_engine(f'postgresql://{connection_string}')"
   ]
  },
  {
   "cell_type": "code",
   "execution_count": 3,
   "metadata": {},
   "outputs": [],
   "source": [
    "# Load data from the .csv files in to the database\n",
    "for x in os.listdir('resources'):\n",
    "    df = pd.read_csv(f'resources/{x}').to_sql(name=x[:-4], con=engine, if_exists='replace', index=False)"
   ]
  },
  {
   "cell_type": "code",
   "execution_count": 4,
   "metadata": {},
   "outputs": [
    {
     "name": "stdout",
     "output_type": "stream",
     "text": [
      "   id         name  price_per_unit\n",
      "0   1  item_name_1            5.10\n",
      "1   2  item_name_2            6.62\n",
      "2   3  item_name_3            3.55\n",
      "3   4  item_name_4            3.88\n",
      "4   5  item_name_5            5.38\n",
      "   id                                              items  server_id    gross  \\\n",
      "0   1  40, 41, 17, 24, 16, 12, 1, 13, 23, 28, 49, 42,...        170  6836.43   \n",
      "1   2            43, 1, 7, 47, 12, 37, 18, 36, 34, 5, 46        177  5670.24   \n",
      "2   3  25, 18, 42, 35, 46, 24, 27, 8, 24, 48, 44, 29,...        174  7993.77   \n",
      "3   4    1, 5, 26, 23, 20, 25, 40, 6, 46, 29, 13, 40, 35        152  5496.18   \n",
      "4   5     14, 45, 2, 5, 9, 40, 31, 1, 18, 10, 25, 22, 44        131  4914.72   \n",
      "\n",
      "          tax        total  \n",
      "0  598.187625  7434.617625  \n",
      "1  496.146000  6166.386000  \n",
      "2  699.454875  8693.224875  \n",
      "3  480.915750  5977.095750  \n",
      "4  430.038000  5344.758000  \n",
      "   id recipe_name                                             recipe  \\\n",
      "0   1    recipe_1  37, 31, 48, 28, 48, 23, 8, 10, 26, 43, 31, 31,...   \n",
      "1   2    recipe_2  1, 21, 23, 33, 28, 27, 21, 42, 17, 35, 12, 35,...   \n",
      "2   3    recipe_3  9, 11, 15, 2, 3, 50, 30, 6, 29, 21, 3, 50, 24,...   \n",
      "3   4    recipe_4  9, 3, 47, 3, 43, 40, 3, 39, 31, 10, 50, 4, 28,...   \n",
      "4   5    recipe_5  8, 38, 10, 42, 45, 36, 8, 42, 38, 42, 18, 30, ...   \n",
      "\n",
      "   price_to_create_dish  \n",
      "0                128.33  \n",
      "1                 70.55  \n",
      "2                123.78  \n",
      "3                186.28  \n",
      "4                155.05  \n",
      "   id           name  sex        born   hire_date\n",
      "0   1  server_name_1    3  1948-07-14  2015-05-25\n",
      "1   2  server_name_2    2  1947-08-13  2019-07-03\n",
      "2   3  server_name_3    2  1961-07-30  2016-07-17\n",
      "3   4  server_name_4    2  1995-08-24  2019-11-25\n",
      "4   5  server_name_5    2  2000-07-23  2021-07-28\n"
     ]
    }
   ],
   "source": [
    "# Verify that the data has been inserted into postgres database\n",
    "for x in os.listdir('resources'):\n",
    "    print(pd.read_sql_query(f'select * from {x[:-4]} limit 5', con=engine))\n"
   ]
  },
  {
   "attachments": {},
   "cell_type": "markdown",
   "metadata": {},
   "source": [
    "# Handling the Data loading for MySQL with the help of Pandas"
   ]
  },
  {
   "cell_type": "code",
   "execution_count": 5,
   "metadata": {},
   "outputs": [],
   "source": [
    "# Establish the MySQL connection\n",
    "connection_string = f\"{config.MYSQL_UN}:{config.MYSQL_PW}@{config.MYSQL_HOST}:{config.MYSQL_PORT}/{config.MYSQL_DB_NAME}\"\n",
    "engine = create_engine(f'mysql+pymysql://{connection_string}')"
   ]
  },
  {
   "cell_type": "code",
   "execution_count": 6,
   "metadata": {},
   "outputs": [],
   "source": [
    "# Load data from the .csv files in to the database\n",
    "for x in os.listdir('resources'):\n",
    "    df = pd.read_csv(f'resources/{x}').to_sql(name=x[:-4], con=engine, if_exists='replace', index=False)"
   ]
  },
  {
   "cell_type": "code",
   "execution_count": 7,
   "metadata": {},
   "outputs": [
    {
     "name": "stdout",
     "output_type": "stream",
     "text": [
      "   id         name  price_per_unit\n",
      "0   1  item_name_1            5.10\n",
      "1   2  item_name_2            6.62\n",
      "2   3  item_name_3            3.55\n",
      "3   4  item_name_4            3.88\n",
      "4   5  item_name_5            5.38\n",
      "   id                                              items  server_id    gross  \\\n",
      "0   1  40, 41, 17, 24, 16, 12, 1, 13, 23, 28, 49, 42,...        170  6836.43   \n",
      "1   2            43, 1, 7, 47, 12, 37, 18, 36, 34, 5, 46        177  5670.24   \n",
      "2   3  25, 18, 42, 35, 46, 24, 27, 8, 24, 48, 44, 29,...        174  7993.77   \n",
      "3   4    1, 5, 26, 23, 20, 25, 40, 6, 46, 29, 13, 40, 35        152  5496.18   \n",
      "4   5     14, 45, 2, 5, 9, 40, 31, 1, 18, 10, 25, 22, 44        131  4914.72   \n",
      "\n",
      "          tax        total  \n",
      "0  598.187625  7434.617625  \n",
      "1  496.146000  6166.386000  \n",
      "2  699.454875  8693.224875  \n",
      "3  480.915750  5977.095750  \n",
      "4  430.038000  5344.758000  \n",
      "   id recipe_name                                             recipe  \\\n",
      "0   1    recipe_1  37, 31, 48, 28, 48, 23, 8, 10, 26, 43, 31, 31,...   \n",
      "1   2    recipe_2  1, 21, 23, 33, 28, 27, 21, 42, 17, 35, 12, 35,...   \n",
      "2   3    recipe_3  9, 11, 15, 2, 3, 50, 30, 6, 29, 21, 3, 50, 24,...   \n",
      "3   4    recipe_4  9, 3, 47, 3, 43, 40, 3, 39, 31, 10, 50, 4, 28,...   \n",
      "4   5    recipe_5  8, 38, 10, 42, 45, 36, 8, 42, 38, 42, 18, 30, ...   \n",
      "\n",
      "   price_to_create_dish  \n",
      "0                128.33  \n",
      "1                 70.55  \n",
      "2                123.78  \n",
      "3                186.28  \n",
      "4                155.05  \n",
      "   id           name  sex        born   hire_date\n",
      "0   1  server_name_1    3  1948-07-14  2015-05-25\n",
      "1   2  server_name_2    2  1947-08-13  2019-07-03\n",
      "2   3  server_name_3    2  1961-07-30  2016-07-17\n",
      "3   4  server_name_4    2  1995-08-24  2019-11-25\n",
      "4   5  server_name_5    2  2000-07-23  2021-07-28\n"
     ]
    }
   ],
   "source": [
    "# Verify that the data has been inserted into MySQL database\n",
    "for x in os.listdir('resources'):\n",
    "    print(pd.read_sql_query(f'select * from {x[:-4]} limit 5', con=engine))\n"
   ]
  }
 ],
 "metadata": {
  "kernelspec": {
   "display_name": "base",
   "language": "python",
   "name": "python3"
  },
  "language_info": {
   "codemirror_mode": {
    "name": "ipython",
    "version": 3
   },
   "file_extension": ".py",
   "mimetype": "text/x-python",
   "name": "python",
   "nbconvert_exporter": "python",
   "pygments_lexer": "ipython3",
   "version": "3.9.7"
  },
  "orig_nbformat": 4,
  "vscode": {
   "interpreter": {
    "hash": "3f542bb704b491dbc8aaf1b698f259a9ba6defffb593dedf0160812707340631"
   }
  }
 },
 "nbformat": 4,
 "nbformat_minor": 2
}
