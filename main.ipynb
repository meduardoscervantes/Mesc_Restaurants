{
 "cells": [
  {
   "cell_type": "code",
   "execution_count": 1,
   "metadata": {},
   "outputs": [],
   "source": [
    "import pandas as pd\n",
    "import numpy as np\n",
    "import datetime\n",
    "import matplotlib.pyplot as plt\n",
    "import os\n",
    "import config\n",
    "from sqlalchemy import create_engine\n"
   ]
  },
  {
   "cell_type": "code",
   "execution_count": 2,
   "metadata": {},
   "outputs": [],
   "source": [
    "# Establish the PostgreSQL connection\n",
    "connection_string = f\"{config.POSTGRES_UN}:{config.POSTGRES_PW}@{config.POSTGRES_HOST}:{config.POSTGRES_PORT}/{config.POSTGRES_DB_NAME}\"\n",
    "engine = create_engine(f'postgresql://{connection_string}')"
   ]
  },
  {
   "attachments": {},
   "cell_type": "markdown",
   "metadata": {},
   "source": [
    "# Pre-work\n",
    "### Since the data is synthetic there will be a lot of steps that are looked over!\n",
    "- Checking for null values\n",
    "    - Using Pandas I would have look for all Null/pd.NaN values in the data\n",
    "\n",
    "* Checking column names\n",
    "    * Read all of the column names and replace all leading, trailing and double spaces.\n",
    "    * Check for any special characters that will cause issue when reading.\n",
    "    * Replace all \" \" with \"_\".\n",
    "\n",
    "- Checking column data types\n",
    "    - Make sure all of columns are in the format that is best for Python code.\n",
    "        - Dates are in correct `DateTime` format\n",
    "        - Numeric values are not in `Str` objects\n",
    "        - No special characters in the data"
   ]
  },
  {
   "cell_type": "code",
   "execution_count": 3,
   "metadata": {},
   "outputs": [
    {
     "name": "stderr",
     "output_type": "stream",
     "text": [
      "C:\\Users\\SPACE-~1\\AppData\\Local\\Temp/ipykernel_24152/4162273999.py:1: SADeprecationWarning: The Engine.table_names() method is deprecated and will be removed in a future release.  Please refer to Inspector.get_table_names(). (deprecated since: 1.4)\n",
      "  engine.table_names()\n"
     ]
    },
    {
     "data": {
      "text/plain": [
       "['boh_items', 'reciepts', 'recipes', 'servers']"
      ]
     },
     "execution_count": 3,
     "metadata": {},
     "output_type": "execute_result"
    }
   ],
   "source": [
    "engine.table_names()"
   ]
  },
  {
   "cell_type": "code",
   "execution_count": 4,
   "metadata": {},
   "outputs": [
    {
     "data": {
      "text/html": [
       "<div>\n",
       "<style scoped>\n",
       "    .dataframe tbody tr th:only-of-type {\n",
       "        vertical-align: middle;\n",
       "    }\n",
       "\n",
       "    .dataframe tbody tr th {\n",
       "        vertical-align: top;\n",
       "    }\n",
       "\n",
       "    .dataframe thead th {\n",
       "        text-align: right;\n",
       "    }\n",
       "</style>\n",
       "<table border=\"1\" class=\"dataframe\">\n",
       "  <thead>\n",
       "    <tr style=\"text-align: right;\">\n",
       "      <th></th>\n",
       "      <th>sex</th>\n",
       "      <th>sum</th>\n",
       "    </tr>\n",
       "  </thead>\n",
       "  <tbody>\n",
       "    <tr>\n",
       "      <th>0</th>\n",
       "      <td>Female</td>\n",
       "      <td>1.897233e+07</td>\n",
       "    </tr>\n",
       "    <tr>\n",
       "      <th>1</th>\n",
       "      <td>Male</td>\n",
       "      <td>1.581709e+07</td>\n",
       "    </tr>\n",
       "    <tr>\n",
       "      <th>2</th>\n",
       "      <td>Other</td>\n",
       "      <td>1.564224e+07</td>\n",
       "    </tr>\n",
       "  </tbody>\n",
       "</table>\n",
       "</div>"
      ],
      "text/plain": [
       "      sex           sum\n",
       "0  Female  1.897233e+07\n",
       "1    Male  1.581709e+07\n",
       "2   Other  1.564224e+07"
      ]
     },
     "execution_count": 4,
     "metadata": {},
     "output_type": "execute_result"
    },
    {
     "data": {
      "image/png": "[encoded data removed]",
      "text/plain": [
       "<Figure size 432x288 with 1 Axes>"
      ]
     },
     "metadata": {},
     "output_type": "display_data"
    }
   ],
   "source": [
    "# Find which Sex sells the most\n",
    "df = pd.read_sql_query(f\"\"\"\n",
    "SELECT servers.sex, sum(reciepts.total)\n",
    "FROM reciepts, servers\n",
    "WHERE servers.id = reciepts.server_id\n",
    "GROUP BY servers.sex\n",
    "ORDER BY sum(reciepts.total) DESC;\n",
    "\"\"\", con=engine)\n",
    "df['sex'] = df['sex'].replace(1, 'Male').replace(2, 'Female').replace(3, 'Other')\n",
    "df.set_index('sex').plot.pie(y='sum')\n",
    "df"
   ]
  },
  {
   "cell_type": "code",
   "execution_count": 5,
   "metadata": {},
   "outputs": [
    {
     "data": {
      "text/html": [
       "<div>\n",
       "<style scoped>\n",
       "    .dataframe tbody tr th:only-of-type {\n",
       "        vertical-align: middle;\n",
       "    }\n",
       "\n",
       "    .dataframe tbody tr th {\n",
       "        vertical-align: top;\n",
       "    }\n",
       "\n",
       "    .dataframe thead th {\n",
       "        text-align: right;\n",
       "    }\n",
       "</style>\n",
       "<table border=\"1\" class=\"dataframe\">\n",
       "  <thead>\n",
       "    <tr style=\"text-align: right;\">\n",
       "      <th></th>\n",
       "      <th>recipe</th>\n",
       "      <th>price_to_create_dish</th>\n",
       "    </tr>\n",
       "  </thead>\n",
       "  <tbody>\n",
       "    <tr>\n",
       "      <th>0</th>\n",
       "      <td>37, 31, 48, 28, 48, 23, 8, 10, 26, 43, 31, 31,...</td>\n",
       "      <td>128.33</td>\n",
       "    </tr>\n",
       "    <tr>\n",
       "      <th>1</th>\n",
       "      <td>1, 21, 23, 33, 28, 27, 21, 42, 17, 35, 12, 35,...</td>\n",
       "      <td>70.55</td>\n",
       "    </tr>\n",
       "    <tr>\n",
       "      <th>2</th>\n",
       "      <td>9, 11, 15, 2, 3, 50, 30, 6, 29, 21, 3, 50, 24,...</td>\n",
       "      <td>123.78</td>\n",
       "    </tr>\n",
       "    <tr>\n",
       "      <th>3</th>\n",
       "      <td>9, 3, 47, 3, 43, 40, 3, 39, 31, 10, 50, 4, 28,...</td>\n",
       "      <td>186.28</td>\n",
       "    </tr>\n",
       "    <tr>\n",
       "      <th>4</th>\n",
       "      <td>8, 38, 10, 42, 45, 36, 8, 42, 38, 42, 18, 30, ...</td>\n",
       "      <td>155.05</td>\n",
       "    </tr>\n",
       "  </tbody>\n",
       "</table>\n",
       "</div>"
      ],
      "text/plain": [
       "                                              recipe  price_to_create_dish\n",
       "0  37, 31, 48, 28, 48, 23, 8, 10, 26, 43, 31, 31,...                128.33\n",
       "1  1, 21, 23, 33, 28, 27, 21, 42, 17, 35, 12, 35,...                 70.55\n",
       "2  9, 11, 15, 2, 3, 50, 30, 6, 29, 21, 3, 50, 24,...                123.78\n",
       "3  9, 3, 47, 3, 43, 40, 3, 39, 31, 10, 50, 4, 28,...                186.28\n",
       "4  8, 38, 10, 42, 45, 36, 8, 42, 38, 42, 18, 30, ...                155.05"
      ]
     },
     "execution_count": 5,
     "metadata": {},
     "output_type": "execute_result"
    }
   ],
   "source": [
    "# Find which Sex sells the most\n",
    "df = pd.read_sql_query(f\"\"\"\n",
    "SELECT recipe, price_to_create_dish\n",
    "FROM recipes;\n",
    "\"\"\", con=engine)\n",
    "df.head()"
   ]
  },
  {
   "cell_type": "code",
   "execution_count": 6,
   "metadata": {},
   "outputs": [
    {
     "data": {
      "text/html": [
       "<div>\n",
       "<style scoped>\n",
       "    .dataframe tbody tr th:only-of-type {\n",
       "        vertical-align: middle;\n",
       "    }\n",
       "\n",
       "    .dataframe tbody tr th {\n",
       "        vertical-align: top;\n",
       "    }\n",
       "\n",
       "    .dataframe thead th {\n",
       "        text-align: right;\n",
       "    }\n",
       "</style>\n",
       "<table border=\"1\" class=\"dataframe\">\n",
       "  <thead>\n",
       "    <tr style=\"text-align: right;\">\n",
       "      <th></th>\n",
       "      <th>recipe</th>\n",
       "      <th>price_to_create_dish</th>\n",
       "    </tr>\n",
       "  </thead>\n",
       "  <tbody>\n",
       "  </tbody>\n",
       "</table>\n",
       "</div>"
      ],
      "text/plain": [
       "Empty DataFrame\n",
       "Columns: [recipe, price_to_create_dish]\n",
       "Index: []"
      ]
     },
     "execution_count": 6,
     "metadata": {},
     "output_type": "execute_result"
    }
   ],
   "source": [
    "# Can confirm that there are no duplicate recipes in the recipe book for the restaurant\n",
    "df[df['recipe'].duplicated() == True]"
   ]
  },
  {
   "cell_type": "code",
   "execution_count": 7,
   "metadata": {},
   "outputs": [
    {
     "data": {
      "text/html": [
       "<div>\n",
       "<style scoped>\n",
       "    .dataframe tbody tr th:only-of-type {\n",
       "        vertical-align: middle;\n",
       "    }\n",
       "\n",
       "    .dataframe tbody tr th {\n",
       "        vertical-align: top;\n",
       "    }\n",
       "\n",
       "    .dataframe thead th {\n",
       "        text-align: right;\n",
       "    }\n",
       "</style>\n",
       "<table border=\"1\" class=\"dataframe\">\n",
       "  <thead>\n",
       "    <tr style=\"text-align: right;\">\n",
       "      <th></th>\n",
       "      <th>recipe</th>\n",
       "      <th>price_to_create_dish</th>\n",
       "    </tr>\n",
       "  </thead>\n",
       "  <tbody>\n",
       "    <tr>\n",
       "      <th>13</th>\n",
       "      <td>26, 36, 3, 19, 11, 14, 10, 26, 11, 30, 36, 50,...</td>\n",
       "      <td>279.57</td>\n",
       "    </tr>\n",
       "    <tr>\n",
       "      <th>32</th>\n",
       "      <td>38, 24, 14, 11, 45, 49, 15, 20, 18, 15, 50, 25...</td>\n",
       "      <td>247.49</td>\n",
       "    </tr>\n",
       "    <tr>\n",
       "      <th>26</th>\n",
       "      <td>17, 21, 17, 25, 37, 41, 18, 40, 6, 19, 27, 29,...</td>\n",
       "      <td>235.02</td>\n",
       "    </tr>\n",
       "    <tr>\n",
       "      <th>40</th>\n",
       "      <td>11, 13, 35, 45, 33, 1, 35, 36, 4, 42, 14, 4, 4...</td>\n",
       "      <td>231.33</td>\n",
       "    </tr>\n",
       "    <tr>\n",
       "      <th>23</th>\n",
       "      <td>12, 42, 23, 44, 15, 46, 6, 3, 49, 7, 21, 37, 3...</td>\n",
       "      <td>227.71</td>\n",
       "    </tr>\n",
       "  </tbody>\n",
       "</table>\n",
       "</div>"
      ],
      "text/plain": [
       "                                               recipe  price_to_create_dish\n",
       "13  26, 36, 3, 19, 11, 14, 10, 26, 11, 30, 36, 50,...                279.57\n",
       "32  38, 24, 14, 11, 45, 49, 15, 20, 18, 15, 50, 25...                247.49\n",
       "26  17, 21, 17, 25, 37, 41, 18, 40, 6, 19, 27, 29,...                235.02\n",
       "40  11, 13, 35, 45, 33, 1, 35, 36, 4, 42, 14, 4, 4...                231.33\n",
       "23  12, 42, 23, 44, 15, 46, 6, 3, 49, 7, 21, 37, 3...                227.71"
      ]
     },
     "execution_count": 7,
     "metadata": {},
     "output_type": "execute_result"
    }
   ],
   "source": [
    "df.sort_values(by='price_to_create_dish', ascending=False).head()"
   ]
  },
  {
   "cell_type": "code",
   "execution_count": 26,
   "metadata": {},
   "outputs": [
    {
     "data": {
      "text/html": [
       "<div>\n",
       "<style scoped>\n",
       "    .dataframe tbody tr th:only-of-type {\n",
       "        vertical-align: middle;\n",
       "    }\n",
       "\n",
       "    .dataframe tbody tr th {\n",
       "        vertical-align: top;\n",
       "    }\n",
       "\n",
       "    .dataframe thead th {\n",
       "        text-align: right;\n",
       "    }\n",
       "</style>\n",
       "<table border=\"1\" class=\"dataframe\">\n",
       "  <thead>\n",
       "    <tr style=\"text-align: right;\">\n",
       "      <th></th>\n",
       "      <th>recipe</th>\n",
       "      <th>price_to_create_dish</th>\n",
       "      <th>recipe_items</th>\n",
       "    </tr>\n",
       "  </thead>\n",
       "  <tbody>\n",
       "    <tr>\n",
       "      <th>19</th>\n",
       "      <td>27, 32, 49</td>\n",
       "      <td>19.30</td>\n",
       "      <td>3</td>\n",
       "    </tr>\n",
       "    <tr>\n",
       "      <th>43</th>\n",
       "      <td>2, 34, 49, 19, 35, 32</td>\n",
       "      <td>37.04</td>\n",
       "      <td>6</td>\n",
       "    </tr>\n",
       "    <tr>\n",
       "      <th>14</th>\n",
       "      <td>50, 44, 38, 30, 25, 1</td>\n",
       "      <td>23.24</td>\n",
       "      <td>6</td>\n",
       "    </tr>\n",
       "    <tr>\n",
       "      <th>16</th>\n",
       "      <td>14, 19, 48, 24, 13, 26</td>\n",
       "      <td>25.08</td>\n",
       "      <td>6</td>\n",
       "    </tr>\n",
       "    <tr>\n",
       "      <th>6</th>\n",
       "      <td>39, 34, 35, 50, 29, 27, 38, 38, 8</td>\n",
       "      <td>33.81</td>\n",
       "      <td>9</td>\n",
       "    </tr>\n",
       "    <tr>\n",
       "      <th>41</th>\n",
       "      <td>26, 12, 19, 6, 10, 47, 17, 41, 38, 22, 50</td>\n",
       "      <td>54.97</td>\n",
       "      <td>11</td>\n",
       "    </tr>\n",
       "    <tr>\n",
       "      <th>21</th>\n",
       "      <td>40, 25, 35, 32, 43, 24, 1, 31, 47, 37, 23</td>\n",
       "      <td>53.63</td>\n",
       "      <td>11</td>\n",
       "    </tr>\n",
       "    <tr>\n",
       "      <th>22</th>\n",
       "      <td>32, 20, 20, 39, 31, 19, 48, 26, 33, 49, 13, 3, 46</td>\n",
       "      <td>68.68</td>\n",
       "      <td>13</td>\n",
       "    </tr>\n",
       "    <tr>\n",
       "      <th>1</th>\n",
       "      <td>1, 21, 23, 33, 28, 27, 21, 42, 17, 35, 12, 35,...</td>\n",
       "      <td>70.55</td>\n",
       "      <td>14</td>\n",
       "    </tr>\n",
       "    <tr>\n",
       "      <th>29</th>\n",
       "      <td>34, 30, 6, 8, 17, 45, 24, 5, 7, 39, 33, 38, 13...</td>\n",
       "      <td>88.56</td>\n",
       "      <td>15</td>\n",
       "    </tr>\n",
       "    <tr>\n",
       "      <th>10</th>\n",
       "      <td>15, 27, 9, 32, 23, 48, 22, 9, 17, 15, 46, 40, ...</td>\n",
       "      <td>96.68</td>\n",
       "      <td>16</td>\n",
       "    </tr>\n",
       "    <tr>\n",
       "      <th>15</th>\n",
       "      <td>25, 11, 11, 1, 33, 10, 50, 25, 34, 40, 22, 37,...</td>\n",
       "      <td>77.51</td>\n",
       "      <td>17</td>\n",
       "    </tr>\n",
       "    <tr>\n",
       "      <th>9</th>\n",
       "      <td>9, 30, 15, 21, 47, 10, 44, 21, 29, 4, 43, 31, ...</td>\n",
       "      <td>83.59</td>\n",
       "      <td>18</td>\n",
       "    </tr>\n",
       "    <tr>\n",
       "      <th>8</th>\n",
       "      <td>11, 35, 38, 37, 4, 49, 30, 45, 28, 19, 39, 36,...</td>\n",
       "      <td>123.50</td>\n",
       "      <td>20</td>\n",
       "    </tr>\n",
       "    <tr>\n",
       "      <th>39</th>\n",
       "      <td>34, 17, 30, 22, 28, 2, 24, 39, 25, 32, 2, 50, ...</td>\n",
       "      <td>117.14</td>\n",
       "      <td>20</td>\n",
       "    </tr>\n",
       "    <tr>\n",
       "      <th>11</th>\n",
       "      <td>50, 47, 13, 6, 43, 33, 7, 24, 31, 17, 18, 5, 1...</td>\n",
       "      <td>125.18</td>\n",
       "      <td>23</td>\n",
       "    </tr>\n",
       "    <tr>\n",
       "      <th>0</th>\n",
       "      <td>37, 31, 48, 28, 48, 23, 8, 10, 26, 43, 31, 31,...</td>\n",
       "      <td>128.33</td>\n",
       "      <td>23</td>\n",
       "    </tr>\n",
       "    <tr>\n",
       "      <th>31</th>\n",
       "      <td>28, 40, 2, 38, 33, 20, 50, 38, 21, 40, 14, 9, ...</td>\n",
       "      <td>118.47</td>\n",
       "      <td>25</td>\n",
       "    </tr>\n",
       "    <tr>\n",
       "      <th>24</th>\n",
       "      <td>38, 30, 20, 19, 47, 38, 1, 9, 3, 32, 29, 26, 2...</td>\n",
       "      <td>117.57</td>\n",
       "      <td>25</td>\n",
       "    </tr>\n",
       "    <tr>\n",
       "      <th>44</th>\n",
       "      <td>11, 26, 26, 21, 39, 47, 16, 10, 44, 26, 47, 30...</td>\n",
       "      <td>112.98</td>\n",
       "      <td>26</td>\n",
       "    </tr>\n",
       "  </tbody>\n",
       "</table>\n",
       "</div>"
      ],
      "text/plain": [
       "                                               recipe  price_to_create_dish  \\\n",
       "19                                         27, 32, 49                 19.30   \n",
       "43                              2, 34, 49, 19, 35, 32                 37.04   \n",
       "14                              50, 44, 38, 30, 25, 1                 23.24   \n",
       "16                             14, 19, 48, 24, 13, 26                 25.08   \n",
       "6                   39, 34, 35, 50, 29, 27, 38, 38, 8                 33.81   \n",
       "41          26, 12, 19, 6, 10, 47, 17, 41, 38, 22, 50                 54.97   \n",
       "21          40, 25, 35, 32, 43, 24, 1, 31, 47, 37, 23                 53.63   \n",
       "22  32, 20, 20, 39, 31, 19, 48, 26, 33, 49, 13, 3, 46                 68.68   \n",
       "1   1, 21, 23, 33, 28, 27, 21, 42, 17, 35, 12, 35,...                 70.55   \n",
       "29  34, 30, 6, 8, 17, 45, 24, 5, 7, 39, 33, 38, 13...                 88.56   \n",
       "10  15, 27, 9, 32, 23, 48, 22, 9, 17, 15, 46, 40, ...                 96.68   \n",
       "15  25, 11, 11, 1, 33, 10, 50, 25, 34, 40, 22, 37,...                 77.51   \n",
       "9   9, 30, 15, 21, 47, 10, 44, 21, 29, 4, 43, 31, ...                 83.59   \n",
       "8   11, 35, 38, 37, 4, 49, 30, 45, 28, 19, 39, 36,...                123.50   \n",
       "39  34, 17, 30, 22, 28, 2, 24, 39, 25, 32, 2, 50, ...                117.14   \n",
       "11  50, 47, 13, 6, 43, 33, 7, 24, 31, 17, 18, 5, 1...                125.18   \n",
       "0   37, 31, 48, 28, 48, 23, 8, 10, 26, 43, 31, 31,...                128.33   \n",
       "31  28, 40, 2, 38, 33, 20, 50, 38, 21, 40, 14, 9, ...                118.47   \n",
       "24  38, 30, 20, 19, 47, 38, 1, 9, 3, 32, 29, 26, 2...                117.57   \n",
       "44  11, 26, 26, 21, 39, 47, 16, 10, 44, 26, 47, 30...                112.98   \n",
       "\n",
       "    recipe_items  \n",
       "19             3  \n",
       "43             6  \n",
       "14             6  \n",
       "16             6  \n",
       "6              9  \n",
       "41            11  \n",
       "21            11  \n",
       "22            13  \n",
       "1             14  \n",
       "29            15  \n",
       "10            16  \n",
       "15            17  \n",
       "9             18  \n",
       "8             20  \n",
       "39            20  \n",
       "11            23  \n",
       "0             23  \n",
       "31            25  \n",
       "24            25  \n",
       "44            26  "
      ]
     },
     "execution_count": 26,
     "metadata": {},
     "output_type": "execute_result"
    }
   ],
   "source": [
    "df['recipe_items'] = [len(x.split(',')) for x in df['recipe'].tolist()]\n",
    "df.sort_values(by='recipe_items', ascending=True).head(20)"
   ]
  },
  {
   "cell_type": "code",
   "execution_count": 11,
   "metadata": {},
   "outputs": [],
   "source": [
    "# Windows 11 home 2.2.8.2 \n",
    "# Need 2.1.8.2\n",
    "# Remote Connect "
   ]
  },
  {
   "cell_type": "code",
   "execution_count": 20,
   "metadata": {},
   "outputs": [],
   "source": [
    "recipe_items = []\n",
    "for x in df['recipe'].tolist():\n",
    "    for y in x.replace(\" \", '').split(','):\n",
    "        if y not in recipe_items:\n",
    "            recipe_items.append(y)\n"
   ]
  },
  {
   "cell_type": "code",
   "execution_count": 40,
   "metadata": {},
   "outputs": [
    {
     "data": {
      "text/plain": [
       "<AxesSubplot:>"
      ]
     },
     "execution_count": 40,
     "metadata": {},
     "output_type": "execute_result"
    },
    {
     "data": {
      "image/png": "[encoded data removed]",
      "text/plain": [
       "<Figure size 432x288 with 1 Axes>"
      ]
     },
     "metadata": {
      "needs_background": "light"
     },
     "output_type": "display_data"
    }
   ],
   "source": [
    "# Display the top 10 ingrediants that appear in every recipe\n",
    "times = []\n",
    "for x in recipe_items:\n",
    "    appears = 0\n",
    "    for y in df['recipe'].tolist():\n",
    "        for z in y.replace(' ', '').split(','):\n",
    "            if x == z:\n",
    "                appears += 1\n",
    "    times.append(appears)\n",
    "pd.DataFrame({\n",
    "    'id': recipe_items,\n",
    "    'times_appears': times\n",
    "}).sort_values(by='times_appears', ascending=False).head(10).plot.bar()"
   ]
  },
  {
   "cell_type": "code",
   "execution_count": null,
   "metadata": {},
   "outputs": [],
   "source": []
  }
 ],
 "metadata": {
  "kernelspec": {
   "display_name": "base",
   "language": "python",
   "name": "python3"
  },
  "language_info": {
   "codemirror_mode": {
    "name": "ipython",
    "version": 3
   },
   "file_extension": ".py",
   "mimetype": "text/x-python",
   "name": "python",
   "nbconvert_exporter": "python",
   "pygments_lexer": "ipython3",
   "version": "3.9.7 (default, Sep 16 2021, 16:59:28) [MSC v.1916 64 bit (AMD64)]"
  },
  "orig_nbformat": 4,
  "vscode": {
   "interpreter": {
    "hash": "3f542bb704b491dbc8aaf1b698f259a9ba6defffb593dedf0160812707340631"
   }
  }
 },
 "nbformat": 4,
 "nbformat_minor": 2
}
